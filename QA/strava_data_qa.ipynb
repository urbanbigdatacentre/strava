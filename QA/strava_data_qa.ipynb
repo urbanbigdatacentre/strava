{
 "cells": [
  {
   "cell_type": "code",
   "execution_count": null,
   "metadata": {
    "pycharm": {
     "is_executing": false
    }
   },
   "outputs": [],
   "source": [
    "import pandas as pd\n",
    "import psycopg2\n",
    "import sqlalchemy\n",
    "import matplotlib\n",
    "from matplotlib import pyplot as plt\n",
    "import seaborn as sns\n",
    "\n",
    "%matplotlib inline\n",
    "sns.set_style('whitegrid')"
   ]
  },
  {
   "cell_type": "markdown",
   "metadata": {},
   "source": [
    "## Establish connection to db"
   ]
  },
  {
   "cell_type": "code",
   "execution_count": 2,
   "metadata": {
    "pycharm": {
     "is_executing": false
    }
   },
   "outputs": [
    {
     "ename": "ValueError",
     "evalue": "invalid literal for int() with base 10: 'PORT'",
     "traceback": [
      "\u001b[1;31m---------------------------------------------------------------------------\u001b[0m",
      "\u001b[1;31mValueError\u001b[0m                                Traceback (most recent call last)",
      "\u001b[1;32m<ipython-input-2-d6cdc7bf3384>\u001b[0m in \u001b[0;36m<module>\u001b[1;34m()\u001b[0m\n\u001b[0;32m     16\u001b[0m                dbname=POSTGRES_DBNAME))\n\u001b[0;32m     17\u001b[0m \u001b[1;31m# Create the connection\u001b[0m\u001b[1;33m\u001b[0m\u001b[1;33m\u001b[0m\u001b[0m\n\u001b[1;32m---> 18\u001b[1;33m \u001b[0mcnx\u001b[0m \u001b[1;33m=\u001b[0m \u001b[0mcreate_engine\u001b[0m\u001b[1;33m(\u001b[0m\u001b[0mpostgres_str\u001b[0m\u001b[1;33m)\u001b[0m\u001b[1;33m\u001b[0m\u001b[0m\n\u001b[0m",
      "\u001b[1;32m~\\AppData\\Local\\Continuum\\anaconda2\\envs\\airbnb-data-collection\\lib\\site-packages\\sqlalchemy\\engine\\__init__.py\u001b[0m in \u001b[0;36mcreate_engine\u001b[1;34m(*args, **kwargs)\u001b[0m\n\u001b[0;32m    422\u001b[0m     \u001b[0mstrategy\u001b[0m \u001b[1;33m=\u001b[0m \u001b[0mkwargs\u001b[0m\u001b[1;33m.\u001b[0m\u001b[0mpop\u001b[0m\u001b[1;33m(\u001b[0m\u001b[1;34m'strategy'\u001b[0m\u001b[1;33m,\u001b[0m \u001b[0mdefault_strategy\u001b[0m\u001b[1;33m)\u001b[0m\u001b[1;33m\u001b[0m\u001b[0m\n\u001b[0;32m    423\u001b[0m     \u001b[0mstrategy\u001b[0m \u001b[1;33m=\u001b[0m \u001b[0mstrategies\u001b[0m\u001b[1;33m.\u001b[0m\u001b[0mstrategies\u001b[0m\u001b[1;33m[\u001b[0m\u001b[0mstrategy\u001b[0m\u001b[1;33m]\u001b[0m\u001b[1;33m\u001b[0m\u001b[0m\n\u001b[1;32m--> 424\u001b[1;33m     \u001b[1;32mreturn\u001b[0m \u001b[0mstrategy\u001b[0m\u001b[1;33m.\u001b[0m\u001b[0mcreate\u001b[0m\u001b[1;33m(\u001b[0m\u001b[1;33m*\u001b[0m\u001b[0margs\u001b[0m\u001b[1;33m,\u001b[0m \u001b[1;33m**\u001b[0m\u001b[0mkwargs\u001b[0m\u001b[1;33m)\u001b[0m\u001b[1;33m\u001b[0m\u001b[0m\n\u001b[0m\u001b[0;32m    425\u001b[0m \u001b[1;33m\u001b[0m\u001b[0m\n\u001b[0;32m    426\u001b[0m \u001b[1;33m\u001b[0m\u001b[0m\n",
      "\u001b[1;32m~\\AppData\\Local\\Continuum\\anaconda2\\envs\\airbnb-data-collection\\lib\\site-packages\\sqlalchemy\\engine\\strategies.py\u001b[0m in \u001b[0;36mcreate\u001b[1;34m(self, name_or_url, **kwargs)\u001b[0m\n\u001b[0;32m     48\u001b[0m     \u001b[1;32mdef\u001b[0m \u001b[0mcreate\u001b[0m\u001b[1;33m(\u001b[0m\u001b[0mself\u001b[0m\u001b[1;33m,\u001b[0m \u001b[0mname_or_url\u001b[0m\u001b[1;33m,\u001b[0m \u001b[1;33m**\u001b[0m\u001b[0mkwargs\u001b[0m\u001b[1;33m)\u001b[0m\u001b[1;33m:\u001b[0m\u001b[1;33m\u001b[0m\u001b[0m\n\u001b[0;32m     49\u001b[0m         \u001b[1;31m# create url.URL object\u001b[0m\u001b[1;33m\u001b[0m\u001b[1;33m\u001b[0m\u001b[0m\n\u001b[1;32m---> 50\u001b[1;33m         \u001b[0mu\u001b[0m \u001b[1;33m=\u001b[0m \u001b[0murl\u001b[0m\u001b[1;33m.\u001b[0m\u001b[0mmake_url\u001b[0m\u001b[1;33m(\u001b[0m\u001b[0mname_or_url\u001b[0m\u001b[1;33m)\u001b[0m\u001b[1;33m\u001b[0m\u001b[0m\n\u001b[0m\u001b[0;32m     51\u001b[0m \u001b[1;33m\u001b[0m\u001b[0m\n\u001b[0;32m     52\u001b[0m         \u001b[0mplugins\u001b[0m \u001b[1;33m=\u001b[0m \u001b[0mu\u001b[0m\u001b[1;33m.\u001b[0m\u001b[0m_instantiate_plugins\u001b[0m\u001b[1;33m(\u001b[0m\u001b[0mkwargs\u001b[0m\u001b[1;33m)\u001b[0m\u001b[1;33m\u001b[0m\u001b[0m\n",
      "\u001b[1;32m~\\AppData\\Local\\Continuum\\anaconda2\\envs\\airbnb-data-collection\\lib\\site-packages\\sqlalchemy\\engine\\url.py\u001b[0m in \u001b[0;36mmake_url\u001b[1;34m(name_or_url)\u001b[0m\n\u001b[0;32m    209\u001b[0m \u001b[1;33m\u001b[0m\u001b[0m\n\u001b[0;32m    210\u001b[0m     \u001b[1;32mif\u001b[0m \u001b[0misinstance\u001b[0m\u001b[1;33m(\u001b[0m\u001b[0mname_or_url\u001b[0m\u001b[1;33m,\u001b[0m \u001b[0mutil\u001b[0m\u001b[1;33m.\u001b[0m\u001b[0mstring_types\u001b[0m\u001b[1;33m)\u001b[0m\u001b[1;33m:\u001b[0m\u001b[1;33m\u001b[0m\u001b[0m\n\u001b[1;32m--> 211\u001b[1;33m         \u001b[1;32mreturn\u001b[0m \u001b[0m_parse_rfc1738_args\u001b[0m\u001b[1;33m(\u001b[0m\u001b[0mname_or_url\u001b[0m\u001b[1;33m)\u001b[0m\u001b[1;33m\u001b[0m\u001b[0m\n\u001b[0m\u001b[0;32m    212\u001b[0m     \u001b[1;32melse\u001b[0m\u001b[1;33m:\u001b[0m\u001b[1;33m\u001b[0m\u001b[0m\n\u001b[0;32m    213\u001b[0m         \u001b[1;32mreturn\u001b[0m \u001b[0mname_or_url\u001b[0m\u001b[1;33m\u001b[0m\u001b[0m\n",
      "\u001b[1;32m~\\AppData\\Local\\Continuum\\anaconda2\\envs\\airbnb-data-collection\\lib\\site-packages\\sqlalchemy\\engine\\url.py\u001b[0m in \u001b[0;36m_parse_rfc1738_args\u001b[1;34m(name)\u001b[0m\n\u001b[0;32m    265\u001b[0m         \u001b[0mcomponents\u001b[0m\u001b[1;33m[\u001b[0m\u001b[1;34m'host'\u001b[0m\u001b[1;33m]\u001b[0m \u001b[1;33m=\u001b[0m \u001b[0mipv4host\u001b[0m \u001b[1;32mor\u001b[0m \u001b[0mipv6host\u001b[0m\u001b[1;33m\u001b[0m\u001b[0m\n\u001b[0;32m    266\u001b[0m         \u001b[0mname\u001b[0m \u001b[1;33m=\u001b[0m \u001b[0mcomponents\u001b[0m\u001b[1;33m.\u001b[0m\u001b[0mpop\u001b[0m\u001b[1;33m(\u001b[0m\u001b[1;34m'name'\u001b[0m\u001b[1;33m)\u001b[0m\u001b[1;33m\u001b[0m\u001b[0m\n\u001b[1;32m--> 267\u001b[1;33m         \u001b[1;32mreturn\u001b[0m \u001b[0mURL\u001b[0m\u001b[1;33m(\u001b[0m\u001b[0mname\u001b[0m\u001b[1;33m,\u001b[0m \u001b[1;33m**\u001b[0m\u001b[0mcomponents\u001b[0m\u001b[1;33m)\u001b[0m\u001b[1;33m\u001b[0m\u001b[0m\n\u001b[0m\u001b[0;32m    268\u001b[0m     \u001b[1;32melse\u001b[0m\u001b[1;33m:\u001b[0m\u001b[1;33m\u001b[0m\u001b[0m\n\u001b[0;32m    269\u001b[0m         raise exc.ArgumentError(\n",
      "\u001b[1;32m~\\AppData\\Local\\Continuum\\anaconda2\\envs\\airbnb-data-collection\\lib\\site-packages\\sqlalchemy\\engine\\url.py\u001b[0m in \u001b[0;36m__init__\u001b[1;34m(self, drivername, username, password, host, port, database, query)\u001b[0m\n\u001b[0;32m     58\u001b[0m         \u001b[0mself\u001b[0m\u001b[1;33m.\u001b[0m\u001b[0mhost\u001b[0m \u001b[1;33m=\u001b[0m \u001b[0mhost\u001b[0m\u001b[1;33m\u001b[0m\u001b[0m\n\u001b[0;32m     59\u001b[0m         \u001b[1;32mif\u001b[0m \u001b[0mport\u001b[0m \u001b[1;32mis\u001b[0m \u001b[1;32mnot\u001b[0m \u001b[1;32mNone\u001b[0m\u001b[1;33m:\u001b[0m\u001b[1;33m\u001b[0m\u001b[0m\n\u001b[1;32m---> 60\u001b[1;33m             \u001b[0mself\u001b[0m\u001b[1;33m.\u001b[0m\u001b[0mport\u001b[0m \u001b[1;33m=\u001b[0m \u001b[0mint\u001b[0m\u001b[1;33m(\u001b[0m\u001b[0mport\u001b[0m\u001b[1;33m)\u001b[0m\u001b[1;33m\u001b[0m\u001b[0m\n\u001b[0m\u001b[0;32m     61\u001b[0m         \u001b[1;32melse\u001b[0m\u001b[1;33m:\u001b[0m\u001b[1;33m\u001b[0m\u001b[0m\n\u001b[0;32m     62\u001b[0m             \u001b[0mself\u001b[0m\u001b[1;33m.\u001b[0m\u001b[0mport\u001b[0m \u001b[1;33m=\u001b[0m \u001b[1;32mNone\u001b[0m\u001b[1;33m\u001b[0m\u001b[0m\n",
      "\u001b[1;31mValueError\u001b[0m: invalid literal for int() with base 10: 'PORT'"
     ],
     "output_type": "error"
    }
   ],
   "source": [
    "from sqlalchemy import create_engine\n",
    "# Postgres username, password, and database name\n",
    "POSTGRES_ADDRESS = 'DB_ADDRESS' ## INSERT YOUR DB ADDRESS \n",
    "POSTGRES_PORT = 'PORT'\n",
    "POSTGRES_USERNAME = 'USERNAME' ## CHANGE THIS TO YOURPOSTGRES USERNAME\n",
    "POSTGRES_PASSWORD = 'PASSWORD' ## CHANGE THIS TO YOUR POSTGRES PASSWORD\n",
    "POSTGRES_DBNAME = 'DB_NAME'\n",
    "## CHANGE THIS TO YOUR DATABASE NAME\n",
    "# A long string that contains the necessary Postgres login information\n",
    "postgres_str = ('postgresql://{username}:{password}@{ipaddress}:{port}/{dbname}'\n",
    "                .format(username=POSTGRES_USERNAME,\n",
    "               password=POSTGRES_PASSWORD,\n",
    "               ipaddress=POSTGRES_ADDRESS,\n",
    "               port=POSTGRES_PORT,\n",
    "               dbname=POSTGRES_DBNAME))\n",
    "# Create the connection\n",
    "cnx = create_engine(postgres_str)"
   ]
  },
  {
   "cell_type": "code",
   "execution_count": null,
   "metadata": {
    "pycharm": {
     "is_executing": false
    }
   },
   "outputs": [],
   "source": [
    "from pylab import rcParams\n",
    "rcParams['figure.figsize'] = 15, 8"
   ]
  },
  {
   "cell_type": "markdown",
   "metadata": {},
   "source": [
    "### Total monthly counts in scotland_YYYY_ride_edge_rollup_ month _total\n",
    "\n",
    "Here i just compare total counts of features/lines to make sure that data has similar volumes of cyclist each month\n"
   ]
  },
  {
   "cell_type": "code",
   "execution_count": null,
   "metadata": {
    "pycharm": {
     "is_executing": false
    }
   },
   "outputs": [],
   "source": [
    "month_edge_rollup = pd.read_sql_query('''\n",
    "SELECT\n",
    "  month_n,\n",
    "  COUNT(month_n),\n",
    "  2015 AS year_n\n",
    "FROM scotland.scotland_2015_ride_edge_rollup_month_total\n",
    "GROUP BY month_n\n",
    "UNION\n",
    "SELECT\n",
    "  month_n,\n",
    "  COUNT(month_n),\n",
    "  2016 AS year_n\n",
    "FROM scotland.scotland_2016_ride_edge_rollup_month_total\n",
    "GROUP BY month_n\n",
    "UNION\n",
    "SELECT\n",
    "  month_n,\n",
    "  COUNT(month_n),\n",
    "  2017 AS year_n\n",
    "FROM scotland.scotland_2017_ride_edge_rollup_month_total\n",
    "GROUP BY month_n\n",
    "UNION\n",
    "SELECT\n",
    "  month_n,\n",
    "  COUNT(month_n),\n",
    "  2018 AS year_n\n",
    "FROM scotland.scotland_2018_ride_edge_rollup_month_total\n",
    "GROUP BY month_n\n",
    "ORDER BY month_n, year_n\n",
    "''', cnx)\n",
    "#if needed to check the table uncomment below\n",
    "#month_edge_rollup"
   ]
  },
  {
   "cell_type": "code",
   "execution_count": null,
   "metadata": {
    "pycharm": {
     "is_executing": false
    }
   },
   "outputs": [],
   "source": [
    "#pd.pivot_table(month_edge_rollup, index=['month_n','year_n'], values='count')"
   ]
  },
  {
   "cell_type": "markdown",
   "metadata": {},
   "source": [
    "#### !! Check that data for each year resembles in shape. E.g summer months have higher acitity than in winter time"
   ]
  },
  {
   "cell_type": "code",
   "execution_count": null,
   "metadata": {
    "pycharm": {
     "is_executing": false
    }
   },
   "outputs": [],
   "source": [
    "pd.pivot_table(month_edge_rollup, index= 'month_n', columns= 'year_n', values='count').plot(kind= 'line')\n",
    "plt.xlabel(\"Month number\")\n",
    "plt.ylabel(\"Count\")\n",
    "plt.title('Total feature counts EDGE')"
   ]
  },
  {
   "cell_type": "markdown",
   "metadata": {},
   "source": [
    "### Total monthly counts in  scotland_YYY_ride_node_rollup_month_total\n",
    "\n",
    "Here I compare total counts of features/lines to make sure that data has similar volumes of cyclist each month"
   ]
  },
  {
   "cell_type": "code",
   "execution_count": null,
   "metadata": {
    "pycharm": {
     "is_executing": false
    }
   },
   "outputs": [],
   "source": [
    "month_node_rollup = pd.read_sql_query('''\n",
    "SELECT\n",
    "  month_n,\n",
    "  COUNT(month_n),\n",
    "  2015 AS year_n\n",
    "FROM scotland.scotland_2015_ride_node_rollup_month_total\n",
    "GROUP BY month_n\n",
    "UNION\n",
    "SELECT\n",
    "  month_n,\n",
    "  COUNT(month_n),\n",
    "  2016 AS year_n\n",
    "FROM scotland.scotland_2016_ride_node_rollup_month_total\n",
    "GROUP BY month_n\n",
    "UNION\n",
    "SELECT\n",
    "  month_n,\n",
    "  COUNT(month_n),\n",
    "  2017 AS year_n\n",
    "FROM scotland.scotland_2017_ride_node_rollup_month_total\n",
    "GROUP BY month_n\n",
    "UNION\n",
    "SELECT\n",
    "  month_n,\n",
    "  COUNT(month_n),\n",
    "  2018 AS year_n\n",
    "FROM scotland.scotland_2018_ride_node_rollup_month_total\n",
    "GROUP BY month_n\n",
    "ORDER BY month_n, year_n\n",
    "''', cnx)\n",
    "#if needed to check the table uncomment below\n",
    "#month_node_rollup"
   ]
  },
  {
   "cell_type": "code",
   "execution_count": null,
   "metadata": {
    "pycharm": {
     "is_executing": false
    }
   },
   "outputs": [],
   "source": [
    "#if needed to see the result of table, uncomment below\n",
    "month_node_rollup_pivot = pd.pivot_table(month_node_rollup, index= 'month_n', columns= 'year_n', values='count')\n",
    "#month_node_rollup_pivot"
   ]
  },
  {
   "cell_type": "code",
   "execution_count": null,
   "metadata": {
    "pycharm": {
     "is_executing": false
    }
   },
   "outputs": [],
   "source": [
    "month_node_rollup_pivot.plot(kind= 'line')\n",
    "plt.xlabel(\"Month number\")\n",
    "plt.ylabel(\"Count\")\n",
    "plt.title('Total feature counts NODE')"
   ]
  },
  {
   "cell_type": "markdown",
   "metadata": {},
   "source": [
    "### Total monthly counts in scotland_YYYY_ride_od_rollup_month_total\n",
    "\n",
    "Here i just compare total counts of features/lines to make sure that data has similar volumes of cyclist each month"
   ]
  },
  {
   "cell_type": "code",
   "execution_count": null,
   "metadata": {
    "pycharm": {
     "is_executing": false
    }
   },
   "outputs": [],
   "source": [
    "month_od_rollup = pd.read_sql_query('''\n",
    "SELECT\n",
    "  month_n::integer,\n",
    "  COUNT(month_n),\n",
    "  2015 AS year_n\n",
    "FROM scotland.scotland_2015_ride_od_rollup_month_total\n",
    "GROUP BY month_n\n",
    "UNION\n",
    "SELECT\n",
    "  month_n::integer,\n",
    "  COUNT(month_n),\n",
    "  2016 AS year_n\n",
    "FROM scotland.scotland_2016_ride_od_rollup_month_total\n",
    "GROUP BY month_n\n",
    "UNION\n",
    "SELECT\n",
    "  month_n::integer,\n",
    "  COUNT(month_n),\n",
    "  2017 AS year_n\n",
    "FROM scotland.scotland_2017_ride_od_rollup_month_total\n",
    "GROUP BY month_n\n",
    "UNION\n",
    "SELECT\n",
    "  month_n, \n",
    "  COUNT(month_n),\n",
    "  2018 AS year_n\n",
    "FROM scotland.scotland_2018_ride_od_rollup_month_total\n",
    "GROUP BY month_n\n",
    "ORDER BY month_n, year_n\n",
    "''', cnx)\n",
    "#if needed to check the table uncomment below\n",
    "#month_od_rollup"
   ]
  },
  {
   "cell_type": "code",
   "execution_count": null,
   "metadata": {
    "pycharm": {
     "is_executing": false
    }
   },
   "outputs": [],
   "source": [
    "#if needed to see the result of table, uncomment below\n",
    "month_od_rollup_pivot = pd.pivot_table(month_od_rollup, index= 'month_n', columns= 'year_n', values='count')\n",
    "#month_od_rollup_pivot"
   ]
  },
  {
   "cell_type": "code",
   "execution_count": null,
   "metadata": {
    "pycharm": {
     "is_executing": false
    }
   },
   "outputs": [],
   "source": [
    "month_od_rollup_pivot.plot(kind= 'line')\n",
    "plt.xlabel(\"Month number\")\n",
    "plt.ylabel(\"Count\")\n",
    "plt.title('Total feature counts OD')"
   ]
  },
  {
   "cell_type": "markdown",
   "metadata": {},
   "source": [
    "### Total activity counts by month EDGE\n",
    "\n",
    "Here I compare sums of total activity counts (it should be busier in summer monthes and less in winter time)"
   ]
  },
  {
   "cell_type": "code",
   "execution_count": null,
   "metadata": {
    "pycharm": {
     "is_executing": false
    }
   },
   "outputs": [],
   "source": [
    "month_edge_tactcnt = pd.read_sql_query('''\n",
    "SELECT\n",
    "  month_n,\n",
    "  SUM(tactcnt::integer) as tactcnt,\n",
    "  2015 AS year_n\n",
    "FROM scotland.scotland_2015_ride_edge_rollup_month_total\n",
    "GROUP BY month_n\n",
    "UNION\n",
    "SELECT\n",
    "  month_n,\n",
    "  sum(tactcnt::integer) ,\n",
    "  2016 AS year_n\n",
    "FROM scotland.scotland_2016_ride_edge_rollup_month_total\n",
    "GROUP BY month_n\n",
    "UNION\n",
    "SELECT\n",
    "  month_n,\n",
    "  sum(tactcnt),\n",
    "  2017 AS year_n\n",
    "FROM scotland.scotland_2017_ride_edge_rollup_month_total\n",
    "GROUP BY month_n\n",
    "UNION\n",
    "SELECT\n",
    "  month_n,\n",
    "  sum(tactcnt),\n",
    "  2018 AS year_n\n",
    "FROM scotland.scotland_2018_ride_edge_rollup_month_total\n",
    "GROUP BY month_n\n",
    "ORDER BY month_n, year_n\n",
    "''', cnx)\n",
    "#month_edge_tactcnt"
   ]
  },
  {
   "cell_type": "code",
   "execution_count": null,
   "metadata": {
    "pycharm": {
     "is_executing": false
    }
   },
   "outputs": [],
   "source": [
    "month_edge_tactcnt_pivot = pd.pivot_table(month_edge_tactcnt, index= 'month_n', columns= 'year_n', values='tactcnt')\n",
    "month_edge_tactcnt_pivot.plot(kind= 'line')\n",
    "plt.xlabel(\"Month number\")\n",
    "plt.ylabel(\"Total activity count (sum)\")\n",
    "plt.title('Total activity EDGE')"
   ]
  },
  {
   "cell_type": "markdown",
   "metadata": {},
   "source": [
    "### Total activity counts by month NODE"
   ]
  },
  {
   "cell_type": "code",
   "execution_count": null,
   "metadata": {
    "pycharm": {
     "is_executing": false
    }
   },
   "outputs": [],
   "source": [
    "month_node_cmtcnt = pd.read_sql_query('''\n",
    "SELECT\n",
    "  month_n,\n",
    "  sum(cmtcnt::integer) as cmtcnt,\n",
    "  2015 AS year_n\n",
    "FROM scotland.scotland_2015_ride_node_rollup_month_total\n",
    "GROUP BY month_n\n",
    "UNION\n",
    "SELECT\n",
    "  month_n,\n",
    "  sum(cmtcnt::integer),\n",
    "  2016 AS year_n\n",
    "FROM scotland.scotland_2016_ride_node_rollup_month_total\n",
    "GROUP BY month_n\n",
    "UNION\n",
    "SELECT\n",
    "  month_n,\n",
    "  sum(cmtcnt::integer),\n",
    "  2017 AS year_n\n",
    "FROM scotland.scotland_2017_ride_node_rollup_month_total\n",
    "GROUP BY month_n\n",
    "UNION\n",
    "SELECT\n",
    "  month_n,\n",
    "  sum(cmtcnt::integer),\n",
    "  2018 AS year_n\n",
    "FROM scotland.scotland_2018_ride_node_rollup_month_total\n",
    "GROUP BY month_n\n",
    "ORDER BY month_n, year_n\n",
    "''', cnx)\n",
    "#month_node_cmtcnt"
   ]
  },
  {
   "cell_type": "code",
   "execution_count": null,
   "metadata": {
    "pycharm": {
     "is_executing": false
    }
   },
   "outputs": [],
   "source": [
    "month_node_cmtcnt_pivot = pd.pivot_table(month_node_cmtcnt, index= 'month_n', columns= 'year_n', values='cmtcnt')\n",
    "month_node_cmtcnt_pivot.plot(kind= 'line')\n",
    "plt.xlabel(\"Month number\")\n",
    "plt.ylabel(\"Total activity count (sum)\")\n",
    "plt.title('Total activity  NODE')"
   ]
  },
  {
   "cell_type": "markdown",
   "metadata": {},
   "source": [
    "### Total activity counts by month OD"
   ]
  },
  {
   "cell_type": "code",
   "execution_count": null,
   "metadata": {
    "pycharm": {
     "is_executing": false
    }
   },
   "outputs": [],
   "source": [
    "month_od_cmtcnt = pd.read_sql_query('''\n",
    "SELECT\n",
    "  month_n::integer,\n",
    "  sum(cmtcnt::integer) as cmtcnt,\n",
    "  2015 AS year_n\n",
    "FROM scotland.scotland_2015_ride_od_rollup_month_total\n",
    "GROUP BY month_n\n",
    "UNION\n",
    "SELECT\n",
    "  month_n::integer,\n",
    "  sum(cmtcnt::integer),\n",
    "  2016 AS year_n\n",
    "FROM scotland.scotland_2016_ride_od_rollup_month_total\n",
    "GROUP BY month_n\n",
    "UNION\n",
    "SELECT\n",
    "  month_n::integer,\n",
    "  sum(cmtcnt::integer),\n",
    "  2017 AS year_n\n",
    "FROM scotland.scotland_2017_ride_od_rollup_month_total\n",
    "GROUP BY month_n\n",
    "UNION\n",
    "SELECT\n",
    "  month_n,\n",
    "  sum(cmtcnt),\n",
    "  2018 AS year_n\n",
    "FROM scotland.scotland_2018_ride_od_rollup_month_total\n",
    "GROUP BY month_n\n",
    "ORDER BY month_n, year_n\n",
    "''', cnx)\n",
    "#month_od_cmtcnt"
   ]
  },
  {
   "cell_type": "code",
   "execution_count": null,
   "metadata": {
    "pycharm": {
     "is_executing": false
    }
   },
   "outputs": [],
   "source": [
    "month_od_cmtcnt_pivot = pd.pivot_table(month_od_cmtcnt, index= 'month_n', columns= 'year_n', values='cmtcnt')\n",
    "month_od_cmtcnt_pivot.plot(kind= 'line')\n",
    "plt.xlabel(\"Month number\")\n",
    "plt.ylabel(\"Total activity count (sum)\")\n",
    "plt.title('Total activity  OD')"
   ]
  },
  {
   "cell_type": "markdown",
   "metadata": {},
   "source": [
    "## Check that each day of the month has some data"
   ]
  },
  {
   "cell_type": "code",
   "execution_count": null,
   "metadata": {
    "pycharm": {
     "is_executing": false
    }
   },
   "outputs": [],
   "source": [
    "day_month_count_2015 = pd.read_sql_query('''\n",
    "SELECT day,year,\n",
    "       count(DAY) AS day_count\n",
    "FROM scotland.scotland_2015_ride_edge_alignment_hourly\n",
    "GROUP BY day, year\n",
    "ORDER BY day::integer\n",
    "''', cnx)\n",
    "#day_month_count_2015.describe()"
   ]
  },
  {
   "cell_type": "code",
   "execution_count": null,
   "metadata": {
    "pycharm": {
     "is_executing": false
    }
   },
   "outputs": [],
   "source": [
    "day_month_count_2016 = pd.read_sql_query('''\n",
    "SELECT day,year,\n",
    "       count(DAY) AS day_count\n",
    "FROM scotland.scotland_2016_ride_edge_alignment_hourly\n",
    "GROUP BY day, year\n",
    "ORDER BY day::integer\n",
    "''', cnx)\n",
    "#day_month_count_2016.describe()"
   ]
  },
  {
   "cell_type": "code",
   "execution_count": null,
   "metadata": {
    "pycharm": {
     "is_executing": false
    }
   },
   "outputs": [],
   "source": [
    "day_month_count_2017 = pd.read_sql_query('''\n",
    "SELECT day,year,\n",
    "       count(DAY) AS day_count\n",
    "FROM scotland.scotland_2017_ride_edge_alignment_hourly\n",
    "GROUP BY day, year\n",
    "ORDER BY day::integer\n",
    "''', cnx)\n",
    "#day_month_count_2017.describe()"
   ]
  },
  {
   "cell_type": "code",
   "execution_count": null,
   "metadata": {
    "pycharm": {
     "is_executing": false
    }
   },
   "outputs": [],
   "source": [
    "day_month_count_2018 = pd.read_sql_query('''\n",
    "SELECT day,year,\n",
    "       count(DAY) AS day_count\n",
    "FROM scotland.scotland_2018_ride_edge_alignment_hourly\n",
    "GROUP BY day, year\n",
    "ORDER BY day::integer\n",
    "''', cnx)\n",
    "#day_month_count_2018.describe()"
   ]
  },
  {
   "cell_type": "markdown",
   "metadata": {},
   "source": [
    "_Check that there are no zero-activity day_"
   ]
  },
  {
   "cell_type": "markdown",
   "metadata": {},
   "source": [
    "Typically the lowest activity is at winter time or around winter holidays (Christmas, NY, etc)"
   ]
  },
  {
   "cell_type": "code",
   "execution_count": null,
   "metadata": {
    "pycharm": {
     "is_executing": false
    }
   },
   "outputs": [],
   "source": [
    "# check that day count is bigger than zero (change the number in query if needed)\n",
    "day_month_count_2015.query('day_count <1000')"
   ]
  },
  {
   "cell_type": "code",
   "execution_count": null,
   "metadata": {
    "pycharm": {
     "is_executing": false
    }
   },
   "outputs": [],
   "source": [
    "# check that day count is bigger than zero (change the number in query if needed)\n",
    "day_month_count_2016.query('day_count <1000')"
   ]
  },
  {
   "cell_type": "code",
   "execution_count": null,
   "metadata": {
    "pycharm": {
     "is_executing": false
    }
   },
   "outputs": [],
   "source": [
    "# check that day count is bigger than zero (change the number in query if needed)\n",
    "day_month_count_2017.query('day_count <1000')"
   ]
  },
  {
   "cell_type": "code",
   "execution_count": null,
   "metadata": {
    "pycharm": {
     "is_executing": false
    }
   },
   "outputs": [],
   "source": [
    "# check that day count is bigger than zero (change the number in query if needed)\n",
    "day_month_count_2018.query('day_count <1000')"
   ]
  },
  {
   "cell_type": "markdown",
   "metadata": {},
   "source": [
    "_When the least number activities occured_"
   ]
  },
  {
   "cell_type": "code",
   "execution_count": null,
   "metadata": {
    "pycharm": {
     "is_executing": false
    }
   },
   "outputs": [],
   "source": [
    "#shows 5 smallest values\n",
    "day_month_count_2015.nsmallest(5,'day_count') "
   ]
  },
  {
   "cell_type": "code",
   "execution_count": null,
   "metadata": {
    "pycharm": {
     "is_executing": false
    }
   },
   "outputs": [],
   "source": [
    "#shows 5 smallest values\n",
    "day_month_count_2016.nsmallest(5,'day_count') "
   ]
  },
  {
   "cell_type": "code",
   "execution_count": null,
   "metadata": {
    "pycharm": {
     "is_executing": false
    }
   },
   "outputs": [],
   "source": [
    "#shows 5 smallest values\n",
    "day_month_count_2017.nsmallest(5,'day_count') "
   ]
  },
  {
   "cell_type": "code",
   "execution_count": null,
   "metadata": {
    "pycharm": {
     "is_executing": false
    }
   },
   "outputs": [],
   "source": [
    "#shows 5 smallest values\n",
    "day_month_count_2018.nsmallest(5,'day_count') "
   ]
  },
  {
   "cell_type": "markdown",
   "metadata": {},
   "source": [
    "_Distribution of number of cycling activities  around the year_\n",
    "\n",
    "## TO-DO \n",
    "# find a better way to show the data"
   ]
  },
  {
   "cell_type": "code",
   "execution_count": null,
   "metadata": {
    "pycharm": {
     "is_executing": false
    }
   },
   "outputs": [],
   "source": [
    "rcParams['figure.figsize'] = 40, 8"
   ]
  },
  {
   "cell_type": "code",
   "execution_count": null,
   "metadata": {
    "pycharm": {
     "is_executing": false
    }
   },
   "outputs": [],
   "source": [
    "#month_od_cmtcnt_pivot = pd.pivot_table(month_od_cmtcnt, index= 'month_n', columns= 'year_n', values='cmtcnt')\n",
    "day_month_count_2015.plot(kind= 'line')\n",
    "#plt.axhline(y=min_day, color='r', linestyle='-')\n",
    "#plt.show()"
   ]
  },
  {
   "cell_type": "code",
   "execution_count": null,
   "metadata": {
    "pycharm": {
     "is_executing": false
    }
   },
   "outputs": [],
   "source": [
    "fig = plt.figure(figsize=(35,8))\n",
    "plt.margins(x=None, y=None, tight=True)\n",
    "\n",
    "for frame in [day_month_count_2015, day_month_count_2016, day_month_count_2017, day_month_count_2018]:\n",
    "    plt.plot(frame['day'], frame['day_count'])\n",
    "\n",
    "    "
   ]
  },
  {
   "cell_type": "code",
   "execution_count": null,
   "metadata": {
    "pycharm": {
     "is_executing": false
    }
   },
   "outputs": [],
   "source": [
    "sns.lineplot(x='day', y= 'day_count',data=day_month_count_2015,label='2015', color = 'blue')\n",
    "sns.lineplot(x='day', y= 'day_count',data=day_month_count_2016,label='2016', color = 'orange')\n",
    "sns.lineplot(x='day', y= 'day_count',data=day_month_count_2017,label='2017', color = 'green')\n",
    "sns.lineplot(x='day', y= 'day_count',data=day_month_count_2018,label='2018', color = 'red')\n",
    "#control x and y limits\n",
    "plt.ylim(0, None)\n",
    "plt.xlim(0, 365)\n"
   ]
  },
  {
   "cell_type": "code",
   "execution_count": null,
   "metadata": {
    "pycharm": {
     "is_executing": false
    }
   },
   "outputs": [],
   "source": []
  }
 ],
 "metadata": {
  "kernelspec": {
   "display_name": "Python 3",
   "language": "python",
   "name": "python3"
  },
  "language_info": {
   "codemirror_mode": {
    "name": "ipython",
    "version": 3
   },
   "file_extension": ".py",
   "mimetype": "text/x-python",
   "name": "python",
   "nbconvert_exporter": "python",
   "pygments_lexer": "ipython3",
   "version": "3.7.4"
  },
  "pycharm": {
   "stem_cell": {
    "cell_type": "raw",
    "source": [],
    "metadata": {
     "collapsed": false
    }
   }
  }
 },
 "nbformat": 4,
 "nbformat_minor": 2
}